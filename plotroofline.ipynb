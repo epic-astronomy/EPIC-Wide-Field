{
 "cells": [
  {
   "cell_type": "code",
   "execution_count": 3,
   "metadata": {},
   "outputs": [],
   "source": [
    "import numpy\n",
    "import matplotlib.pyplot as plt\n",
    "from matplotlib.lines import Line2D"
   ]
  },
  {
   "cell_type": "code",
   "execution_count": 102,
   "metadata": {},
   "outputs": [],
   "source": [
    "def compute_matrix_cost(N_chan,N_pol,N_sky,N_ant,N_time):\n",
    "    \n",
    "    mul_cost = 6 * N_chan * N_pol * N_sky * N_ant * N_time\n",
    "    add_cost = 3 * N_chan * N_pol * N_sky * N_time * (N_pol-1)\n",
    "    \n",
    "    total_cost = mul_cost + add_cost\n",
    "    \n",
    "    bytes_loaded = 8*(N_chan * N_pol * N_sky * N_ant + N_ant * N_time)\n",
    "    print(bytes_loaded)\n",
    "    return total_cost,total_cost/bytes_loaded\n",
    "\n",
    "def compute_fx_cost(N_chan,N_pol,N_ant,N_time):\n",
    "    cost = 6 * N_chan * N_pol * N_time *(N_ant**2)\n",
    "    bytes_loaded = 8*(N_chan * N_pol * N_time * N_ant)\n",
    "    return cost,cost/bytes_loaded\n",
    "\n",
    "def compute_epic_fft_cost(N_chan,N_pol,N_ant,N_grid,N_time,N_supp):\n",
    "    fft_cost = 5 * N_chan * N_pol * N_time * N_grid * numpy.log2(N_grid)\n",
    "    convolution_cost = 8 * N_supp * N_chan * N_pol * N_time * N_ant # 8 comes from complex multiply + add\n",
    "    total_cost = fft_cost + convolution_cost\n",
    "    bytes_loaded = 8 * (N_chan * N_pol * N_time * N_grid) + 8 * (N_chan * N_pol * N_time * N_ant + N_supp)\n",
    "    \n",
    "    return total_cost,total_cost/bytes_loaded"
   ]
  },
  {
   "cell_type": "code",
   "execution_count": 81,
   "metadata": {},
   "outputs": [
    {
     "name": "stdout",
     "output_type": "stream",
     "text": [
      "[135266304 136314880 138412032 142606336]\n"
     ]
    }
   ],
   "source": [
    "N_time = numpy.asarray([512,1024,2048,4096])\n",
    "\n",
    "ops,op_int = compute_matrix_cost(8,2,4096,256,N_time)\n"
   ]
  },
  {
   "cell_type": "code",
   "execution_count": 40,
   "metadata": {},
   "outputs": [
    {
     "data": {
      "text/plain": [
       "array([ 51640270848, 103280541696, 206561083392, 413122166784])"
      ]
     },
     "execution_count": 40,
     "metadata": {},
     "output_type": "execute_result"
    }
   ],
   "source": [
    "ops"
   ]
  },
  {
   "cell_type": "code",
   "execution_count": 41,
   "metadata": {},
   "outputs": [
    {
     "data": {
      "text/plain": [
       "array([ 381.76744186,  757.66153846, 1492.36363636, 2896.94117647])"
      ]
     },
     "execution_count": 41,
     "metadata": {},
     "output_type": "execute_result"
    }
   ],
   "source": [
    "op_int"
   ]
  },
  {
   "cell_type": "code",
   "execution_count": 42,
   "metadata": {},
   "outputs": [
    {
     "data": {
      "image/png": "[encoded data removed]",
      "text/plain": [
       "<Figure size 396x288 with 1 Axes>"
      ]
     },
     "metadata": {
      "needs_background": "light"
     },
     "output_type": "display_data"
    }
   ],
   "source": [
    "opint = [12.5,128]\n",
    "flops = [2.662e10,3e12]\n",
    "txt = [\"FFT EPIC\",\"FX\"]\n",
    "\n",
    "f,ax = plt.subplots(1,figsize=(5.5,4.0))\n",
    "ax.scatter(opint,flops)\n",
    "#plt.title(\"Roofline Model of EPIC vs FX\")\n",
    "plt.xlabel(\"Operational Intensity (Flops/Byte)\")\n",
    "plt.ylabel(\"Performance (GFlops/S)\")\n",
    "\n",
    "#Roof of roofline\n",
    "\n",
    "line = Line2D([0.126,22.53],[0.1,9.3e12],c='r')\n",
    "ax.add_line(line)\n",
    "line2 = Line2D([22.53,256],[9.3e12,9.3e12],c='r')\n",
    "ax.add_line(line2)\n",
    "line3 = Line2D([22.53,21.875],[0,13.1e12],c='g',ls='--')\n",
    "ax.add_line(line3)\n",
    "\n",
    "opint_txt = [12.5,135]\n",
    "flops_txt = [2.662e10,1e12]\n",
    "for i,txt in enumerate(txt):\n",
    "    ax.annotate(txt,(opint[i],flops[i]),(opint_txt[i],flops_txt[i]))\n",
    "#a2.set_xlim([0,128]\n",
    "\n",
    "plt.yscale('log',basey=10)\n",
    "plt.xscale('log',basex=2)\n",
    "plt.xlim([0.125,256])\n",
    "plt.ylim([0,10e13])\n",
    "#plt.autoscale(True)\n",
    "plt.show()\n"
   ]
  },
  {
   "cell_type": "code",
   "execution_count": 125,
   "metadata": {},
   "outputs": [],
   "source": [
    "def generate_roofline():\n",
    "    \n",
    "    f,ax = plt.subplots(1,figsize=(6.0,7.0))\n",
    "    \n",
    "    #Roof of roofline\n",
    "    line = Line2D([0.126,22.53],[0.1,9.3e12],c='r')\n",
    "    ax.add_line(line)\n",
    "    line2 = Line2D([22.53,4096],[9.3e12,9.3e12],c='r')\n",
    "    ax.add_line(line2)\n",
    "    line3 = Line2D([22.53,21.875],[0.0001,13.1e12],c='g',ls='--')\n",
    "    ax.add_line(line3)\n",
    "    \n",
    "    #Add FFT EPIC and FX Correlator\n",
    "    #opint = [12.5,128]\n",
    "    #flops = [2.662e10,3e12]\n",
    "    #txt = [\"FFT EPIC\",\"FX\"]\n",
    "    #ax.scatter(opint,flops)\n",
    "    \n",
    "    #opint_txt = [12.5,135]\n",
    "    #flops_txt = [2.662e10,1e12]\n",
    "    #for i,txt in enumerate(txt):\n",
    "    #    ax.annotate(txt,(opint[i],flops[i]),(opint_txt[i],flops_txt[i]))\n",
    "        \n",
    "    # Add DFT EPIC and parameterise by times\n",
    "    \n",
    "    times = numpy.asarray([32,64,256,512,1024,2048,4096])\n",
    "    ops,op_int = compute_matrix_cost(1,1,4096,256,times)\n",
    "    ax.scatter(op_int,ops,marker='^',label='DFT vs Time')\n",
    "    \n",
    "    \n",
    "     # Add DFT EPIC and parameterise by sky points\n",
    "    \n",
    "    sky = numpy.asarray([32,64,256,512,1024,2048,4096])\n",
    "    ops,op_int = compute_matrix_cost(1,1,sky,256,2048)\n",
    "    ax.scatter(op_int,ops,marker='.',label='DFT vs Sky Points')\n",
    "    \n",
    "    # Add FX Correlator and parameterise by sky points for 8 channels/dual pol\n",
    "    \n",
    "    ants = numpy.asarray([32,64,256,512,1024,2048,4096])\n",
    "    ops,op_int = compute_fx_cost(1,1,ants,2048)\n",
    "    ax.scatter(op_int,ops,marker='+',label='FX Correlator vs Antennas')\n",
    "    \n",
    "    # Add EPIC FFT Correlator and parameterise by grid size\n",
    "    \n",
    "    grid_size = numpy.asarray([32,64,128,256,512])\n",
    "    ops,op_int = compute_epic_fft_cost(1,1,256,grid_size,2048,9)\n",
    "    ax.scatter(op_int,ops,marker='D',label='EPIC FFT Correlator vs Grid Size')\n",
    "    \n",
    "    plt.xlabel(\"Operational Intensity (Flops/Byte)\")\n",
    "    plt.ylabel(\"Floating Point Operations\")\n",
    "    plt.yscale('log',basey=10)\n",
    "    plt.xscale('log',basex=2)\n",
    "    plt.xlim([0.125,4096])\n",
    "    plt.ylim([100000,10e13])\n",
    "    plt.legend(loc=2)\n",
    "    #plt.autoscale(True)\n",
    "    plt.savefig(\"roofline.pdf\")\n",
    "    plt.show()"
   ]
  },
  {
   "cell_type": "code",
   "execution_count": 126,
   "metadata": {},
   "outputs": [
    {
     "name": "stdout",
     "output_type": "stream",
     "text": [
      "[ 8454144  8519680  8912896  9437184 10485760 12582912 16777216]\n",
      "[ 4259840  4325376  4718592  5242880  6291456  8388608 12582912]\n"
     ]
    },
    {
     "data": {
      "image/png": "[encoded data removed]",
      "text/plain": [
       "<Figure size 432x504 with 1 Axes>"
      ]
     },
     "metadata": {
      "needs_background": "light"
     },
     "output_type": "display_data"
    }
   ],
   "source": [
    "generate_roofline()"
   ]
  },
  {
   "cell_type": "code",
   "execution_count": null,
   "metadata": {},
   "outputs": [],
   "source": []
  }
 ],
 "metadata": {
  "kernelspec": {
   "display_name": "Python 3",
   "language": "python",
   "name": "python3"
  },
  "language_info": {
   "codemirror_mode": {
    "name": "ipython",
    "version": 3
   },
   "file_extension": ".py",
   "mimetype": "text/x-python",
   "name": "python",
   "nbconvert_exporter": "python",
   "pygments_lexer": "ipython3",
   "version": "3.7.3"
  }
 },
 "nbformat": 4,
 "nbformat_minor": 2
}
